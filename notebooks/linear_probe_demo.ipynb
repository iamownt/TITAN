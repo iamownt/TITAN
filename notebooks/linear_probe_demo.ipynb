{
 "cells": [
  {
   "cell_type": "markdown",
   "metadata": {},
   "source": [
    "# Linear probing demo \n",
    "In this notebook, you can evalate slide embeddings for TITAN using linear probing."
   ]
  },
  {
   "cell_type": "code",
   "metadata": {
    "ExecuteTime": {
     "end_time": "2025-06-24T12:41:37.270639Z",
     "start_time": "2025-06-24T12:41:37.257181Z"
    }
   },
   "source": [
    "# %load_ext autoreload\n",
    "# %autoreload 2\n",
    "\n",
    "import sys\n",
    "sys.path.extend([\"/home/user/wangtao/prov-gigapath/TITAN\"])\n",
    "import numpy as np\n",
    "import pandas as pd\n",
    "import torch\n",
    "import yaml\n",
    "from transformers import AutoModel\n",
    "from titan.eval_linear_probe import train_and_evaluate_logistic_regression_with_val, train_and_evaluate_logistic_regression_with_both_metrics\n",
    "from titan.utils import bootstrap\n",
    "\n",
    "import os\n",
    "import psutil\n",
    "\n",
    "physical_cores = psutil.cpu_count(logical=False)\n",
    "print(\"physical_cores\", physical_cores)\n",
    "\n",
    "# Set the MKL_NUM_THREADS to the number of physical cores\n",
    "os.environ[\"OMP_NUM_THREADS\"] = str(int(physical_cores / 2))\n",
    "os.environ[\"MKL_NUM_THREADS\"] = str(int(physical_cores / 2))\n",
    "os.environ[\"OPENBLAS_NUM_THREADS\"] = str(int(physical_cores / 2))\n",
    "os.environ[\"OPENBLAS_NUM_THREADS\"] = str(int(physical_cores / 2))\n",
    "device = torch.device(\"cuda\" if torch.cuda.is_available() else \"cpu\")"
   ],
   "outputs": [
    {
     "name": "stdout",
     "output_type": "stream",
     "text": [
      "physical_cores 24\n"
     ]
    }
   ],
   "execution_count": 20
  },
  {
   "cell_type": "code",
   "metadata": {
    "ExecuteTime": {
     "end_time": "2025-06-24T12:41:42.381552Z",
     "start_time": "2025-06-24T12:41:39.537358Z"
    }
   },
   "source": [
    "# load model from huggingface\n",
    "model = AutoModel.from_pretrained('MahmoodLab/TITAN', trust_remote_code=True)\n",
    "model = model.to(device)"
   ],
   "outputs": [],
   "execution_count": 21
  },
  {
   "cell_type": "code",
   "metadata": {
    "ExecuteTime": {
     "end_time": "2025-06-24T12:41:42.459217Z",
     "start_time": "2025-06-24T12:41:42.449178Z"
    }
   },
   "source": [
    "# load task configs\n",
    "with open('/home/user/wangtao/prov-gigapath/TITAN/datasets/config_tcga-ot.yaml', 'r') as file:\n",
    "    task_config = yaml.load(file, Loader=yaml.FullLoader)\n",
    "target = task_config['target']\n",
    "label_dict = task_config['label_dict']"
   ],
   "outputs": [],
   "execution_count": 22
  },
  {
   "cell_type": "code",
   "metadata": {
    "ExecuteTime": {
     "end_time": "2025-06-24T12:41:42.554987Z",
     "start_time": "2025-06-24T12:41:42.538592Z"
    }
   },
   "source": [
    "# load pre-extracted TITAN slide embeddings for TCGA\n",
    "import pickle\n",
    "from huggingface_hub import hf_hub_download\n",
    "# slide_feature_path = hf_hub_download(\n",
    "#     \"MahmoodLab/TITAN\",\n",
    "#     filename=\"TCGA_TITAN_features.pkl\",\n",
    "# )\n",
    "slide_feature_path = '/home/user/sngp/TCGA-OT/Patch512/TITAN/h5_files_slide/TCGA_TITAN_custom_features.pkl'\n",
    "with open(slide_feature_path, 'rb') as file:\n",
    "  data = pickle.load(file)\n",
    "embeddings_df = pd.DataFrame({'slide_id': data['filenames'], 'embeddings': list(data['embeddings'][:])})\n",
    "print(\"embeddings_df\", embeddings_df.shape)"
   ],
   "outputs": [
    {
     "name": "stdout",
     "output_type": "stream",
     "text": [
      "embeddings_df (11186, 2)\n"
     ]
    }
   ],
   "execution_count": 23
  },
  {
   "metadata": {
    "ExecuteTime": {
     "end_time": "2025-06-24T12:41:42.907165Z",
     "start_time": "2025-06-24T12:41:42.902191Z"
    }
   },
   "cell_type": "code",
   "source": [
    "# tcga_slide_path = \"/home/user/sngp/tcga_slides/slides\"\n",
    "# tcga_slide_list = os.listdir(tcga_slide_path)\n",
    "# tcga_slide_name = [slide.strip('.svs') for slide in tcga_slide_list]\n",
    "# embeddings_df = embeddings_df[embeddings_df['slide_id'].isin(tcga_slide_name)]"
   ],
   "outputs": [],
   "execution_count": 24
  },
  {
   "cell_type": "code",
   "metadata": {
    "ExecuteTime": {
     "end_time": "2025-06-24T12:41:43.068761Z",
     "start_time": "2025-06-24T12:41:43.046671Z"
    }
   },
   "source": [
    "# load splits\n",
    "train_split = pd.read_csv('/home/user/wangtao/prov-gigapath/TITAN/datasets/tcga-ot_train.csv')\n",
    "# only change a value from TCGA-F5-6861-01Z-00-DX1.011B771B-F52E-412E-9352-1578349BEAF1 to TCGA-F5-6861-01Z-00-DX1.011B771B-F52E-412E-9352-1578349beaf1,\n",
    "train_split[\"slide_id\"] = train_split[\"slide_id\"].str.replace(\"TCGA-F5-6861-01Z-00-DX1.011B771B-F52E-412E-9352-1578349beaf1\", \"TCGA-F5-6861-01Z-00-DX1.011B771B-F52E-412E-9352-1578349BEAF1\")\n",
    "train_df = pd.merge(embeddings_df, train_split, on='slide_id')\n",
    "val_split = pd.read_csv('/home/user/wangtao/prov-gigapath/TITAN/datasets/tcga-ot_val.csv')\n",
    "val_df = pd.merge(embeddings_df, val_split, on='slide_id')\n",
    "test_split = pd.read_csv('/home/user/wangtao/prov-gigapath/TITAN//datasets/tcga-ot_test.csv')\n",
    "test_df = pd.merge(embeddings_df, test_split, on='slide_id')\n",
    "# Slide TCGA-F5-6861-01Z-00-DX1.011B771B-F52E-412E-9352-1578349BEAF1 not found in embeddings_df"
   ],
   "outputs": [],
   "execution_count": 25
  },
  {
   "metadata": {
    "ExecuteTime": {
     "end_time": "2025-06-24T12:41:43.194262Z",
     "start_time": "2025-06-24T12:41:43.188512Z"
    }
   },
   "cell_type": "code",
   "source": "print(f\"len(train_df): {len(train_df)}, len(val_df): {len(val_df)}, len(test_df): {len(test_df)}\")",
   "outputs": [
    {
     "name": "stdout",
     "output_type": "stream",
     "text": [
      "len(train_df): 8226, len(val_df): 1612, len(test_df): 1348\n"
     ]
    }
   ],
   "execution_count": 26
  },
  {
   "cell_type": "code",
   "metadata": {
    "ExecuteTime": {
     "end_time": "2025-06-24T12:41:43.502100Z",
     "start_time": "2025-06-24T12:41:43.472667Z"
    }
   },
   "source": [
    "train_data = np.stack(train_df.embeddings.values)\n",
    "train_labels = train_df[target].apply(lambda x: label_dict[x]).values\n",
    "val_data = np.stack(val_df.embeddings.values)\n",
    "val_labels = val_df[target].apply(lambda x: label_dict[x]).values\n",
    "test_data = np.stack(test_df.embeddings.values)\n",
    "test_labels = test_df[target].apply(lambda x: label_dict[x]).values"
   ],
   "outputs": [],
   "execution_count": 27
  },
  {
   "metadata": {
    "ExecuteTime": {
     "end_time": "2025-06-24T12:41:44.364138Z",
     "start_time": "2025-06-24T12:41:44.348263Z"
    }
   },
   "cell_type": "code",
   "source": [
    "print(\"train df\", pd.DataFrame(train_labels).value_counts())\n",
    "print(\"val df\", pd.DataFrame(val_labels).value_counts())\n",
    "print(\"test df\", pd.DataFrame(test_labels).value_counts())"
   ],
   "outputs": [
    {
     "name": "stdout",
     "output_type": "stream",
     "text": [
      "train df 0 \n",
      "13    798\n",
      "17    743\n",
      "5     455\n",
      "32    382\n",
      "4     376\n",
      "21    364\n",
      "23    347\n",
      "16    338\n",
      "43    308\n",
      "20    305\n",
      "14    303\n",
      "8     278\n",
      "39    253\n",
      "33    197\n",
      "27    165\n",
      "1     158\n",
      "18    154\n",
      "28    152\n",
      "29    135\n",
      "6     134\n",
      "24    119\n",
      "30    118\n",
      "37    114\n",
      "34    113\n",
      "0     113\n",
      "2     112\n",
      "19    108\n",
      "25     91\n",
      "40     86\n",
      "26     78\n",
      "15     75\n",
      "7      65\n",
      "3      64\n",
      "45     64\n",
      "12     60\n",
      "10     57\n",
      "9      56\n",
      "35     55\n",
      "22     48\n",
      "41     45\n",
      "11     44\n",
      "31     43\n",
      "42     42\n",
      "38     41\n",
      "36     36\n",
      "44     34\n",
      "Name: count, dtype: int64\n",
      "val df 0 \n",
      "1     50\n",
      "13    50\n",
      "4     49\n",
      "5     49\n",
      "17    49\n",
      "8     49\n",
      "21    48\n",
      "20    48\n",
      "16    47\n",
      "28    46\n",
      "37    46\n",
      "33    46\n",
      "14    46\n",
      "27    45\n",
      "39    45\n",
      "32    44\n",
      "43    44\n",
      "26    43\n",
      "40    41\n",
      "2     41\n",
      "25    41\n",
      "24    40\n",
      "6     40\n",
      "45    40\n",
      "0     39\n",
      "19    37\n",
      "18    36\n",
      "42    34\n",
      "3     33\n",
      "35    32\n",
      "29    32\n",
      "23    31\n",
      "36    29\n",
      "9     29\n",
      "30    27\n",
      "34    25\n",
      "15    23\n",
      "7     19\n",
      "31    17\n",
      "10    14\n",
      "41    14\n",
      "12    12\n",
      "38    11\n",
      "22    11\n",
      "11    10\n",
      "44    10\n",
      "Name: count, dtype: int64\n",
      "test df 0 \n",
      "20    178\n",
      "39    110\n",
      "21    100\n",
      "16     87\n",
      "43     70\n",
      "38     57\n",
      "6      55\n",
      "33     54\n",
      "40     53\n",
      "8      48\n",
      "17     46\n",
      "44     35\n",
      "37     33\n",
      "4      32\n",
      "41     28\n",
      "29     27\n",
      "7      25\n",
      "32     23\n",
      "18     21\n",
      "12     20\n",
      "1      19\n",
      "34     18\n",
      "30     18\n",
      "45     16\n",
      "23     15\n",
      "5      15\n",
      "14     13\n",
      "0      12\n",
      "11     12\n",
      "42     11\n",
      "13     10\n",
      "36     10\n",
      "19     10\n",
      "25      9\n",
      "15      9\n",
      "26      7\n",
      "27      7\n",
      "3       7\n",
      "24      6\n",
      "28      5\n",
      "22      4\n",
      "35      4\n",
      "10      3\n",
      "31      2\n",
      "9       2\n",
      "2       2\n",
      "Name: count, dtype: int64\n"
     ]
    }
   ],
   "execution_count": 28
  },
  {
   "cell_type": "code",
   "metadata": {
    "ExecuteTime": {
     "end_time": "2025-06-24T12:42:58.127931Z",
     "start_time": "2025-06-24T12:41:45.264350Z"
    }
   },
   "source": [
    "# log_spaced_values = np.logspace(np.log10(10e-2), np.log10(10e2), num=3)\n",
    "results, outputs = train_and_evaluate_logistic_regression_with_val(train_data, train_labels, val_data, val_labels, test_data, test_labels, test_slide_id=None, test_patient_id=None, log_spaced_values=None)\n",
    "# to use the default setting from our paper use the default value for searching C (log_spaced_values = np.logspace(np.log10(10e-6), np.log10(10e5), num=45))\n",
    "# results = train_and_evaluate_logistic_regression_with_val(train_data, train_labels, val_data, val_labels, test_data, test_labels)\n",
    "for key, value in results.items():\n",
    "    print(f\"{key.split('/')[-1]: <12}: {value:.4f}\")"
   ],
   "outputs": [
    {
     "name": "stderr",
     "output_type": "stream",
     "text": [
      "Finding best C: 100%|██████████| 45/45 [01:12<00:00,  1.61s/it]\n"
     ]
    },
    {
     "name": "stdout",
     "output_type": "stream",
     "text": [
      "Best C: 17.78279410038923\n",
      "acc         : 0.7745\n",
      "bacc        : 0.6919\n",
      "kappa       : 0.8007\n",
      "nw_kappa    : 0.8130\n",
      "weighted_f1 : 0.7586\n",
      "loss        : 0.6296\n",
      "auroc       : 0.9897\n"
     ]
    }
   ],
   "execution_count": 29
  },
  {
   "metadata": {
    "ExecuteTime": {
     "end_time": "2025-06-24T11:02:46.500043Z",
     "start_time": "2025-06-24T11:02:46.497758Z"
    }
   },
   "cell_type": "code",
   "source": [
    "# log_spaced_values = np.logspace(np.log10(10e-2), np.log10(10e2), num=3)\n",
    "results, outputs = train_and_evaluate_logistic_regression_with_val(train_data, train_labels, val_data, val_labels, test_data, test_labels, test_slide_id=None, test_patient_id=None, log_spaced_values=[0.03162277660168379])\n",
    "# to use the default setting from our paper use the default value for searching C (log_spaced_values = np.logspace(np.log10(10e-6), np.log10(10e5), num=45))\n",
    "val_labels, test_data, test_labels)\n",
    "for key, value in results.items():\n",
    "    print(f\"{key.split('/')[-1]: <12}: {value:.4f}\")\n",
    "\n",
    "val_results, test_results, outputs = train_and_evaluate_logistic_regression_with_both_metrics(\n",
    "    train_data, train_labels, val_data, val_labels, None, None, test_data, test_labels,\n",
    "    test_slide_id=None, test_patient_id=None, log_spaced_values=[0.03162277660168379]\n",
    ")\n",
    "# results = train_and_evaluate_logistic_regression_with_val(train_data, train_labels, val_data, val_labels, test_data, test_labels)\n",
    "\n",
    "for key, value in val_results.items():\n",
    "    print(f\"VAL {key.split('/')[-1]: <12}: {value:.4f}\")\n",
    "\n",
    "for key, value in test_results.items():\n",
    "    print(f\"TEST {key.split('/')[-1]: <12}: {value:.4f}\")"
   ],
   "outputs": [
    {
     "ename": "SyntaxError",
     "evalue": "unmatched ')' (2895622222.py, line 4)",
     "output_type": "error",
     "traceback": [
      "\u001B[0;36m  Cell \u001B[0;32mIn[120], line 4\u001B[0;36m\u001B[0m\n\u001B[0;31m    val_labels, test_data, test_labels)\u001B[0m\n\u001B[0m                                      ^\u001B[0m\n\u001B[0;31mSyntaxError\u001B[0m\u001B[0;31m:\u001B[0m unmatched ')'\n"
     ]
    }
   ],
   "execution_count": 120
  },
  {
   "cell_type": "code",
   "metadata": {
    "ExecuteTime": {
     "end_time": "2025-06-24T09:36:38.793983Z",
     "start_time": "2024-12-08T08:56:26.543038Z"
    }
   },
   "source": [
    "bootstrap_kwargs = {'n': 1000, 'alpha': 0.95}\n",
    "results_mean, results_std = bootstrap(results_dict=outputs, **bootstrap_kwargs)  # takes a while as 46 imbalanced classes are bootstrapped\n",
    "for keys, values in results_mean.items():\n",
    "    print(f\"{keys.split('/')[-1]: <12}: {values:.4f} ± {results_std[keys]:.4f}\")"
   ],
   "outputs": [
    {
     "name": "stderr",
     "output_type": "stream",
     "text": [
      "100%|██████████| 1000/1000 [00:08<00:00, 119.22it/s]"
     ]
    },
    {
     "name": "stdout",
     "output_type": "stream",
     "text": [
      "acc         : 0.9042 ± 0.0212\n",
      "bacc        : 0.9093 ± 0.0207\n",
      "kappa       : 0.7957 ± 0.0450\n",
      "nw_kappa    : 0.7957 ± 0.0450\n",
      "weighted_f1 : 0.9053 ± 0.0207\n",
      "loss        : 0.2684 ± 0.0542\n",
      "auroc       : 0.9633 ± 0.0130\n"
     ]
    },
    {
     "name": "stderr",
     "output_type": "stream",
     "text": [
      "\n"
     ]
    }
   ],
   "execution_count": 23
  },
  {
   "metadata": {
    "ExecuteTime": {
     "end_time": "2025-06-24T09:36:38.794460Z",
     "start_time": "2024-12-08T08:10:09.337270Z"
    }
   },
   "cell_type": "code",
   "source": "slide_feature_path",
   "outputs": [
    {
     "data": {
      "text/plain": [
       "'/home/user/.cache/huggingface/hub/models--MahmoodLab--TITAN/snapshots/b2fb4f475256eb67c6e9ccbf2d6c9c3f25f20791/TCGA_TITAN_features.pkl'"
      ]
     },
     "execution_count": 12,
     "metadata": {},
     "output_type": "execute_result"
    }
   ],
   "execution_count": 12
  },
  {
   "metadata": {},
   "cell_type": "code",
   "outputs": [],
   "execution_count": null,
   "source": ""
  }
 ],
 "metadata": {
  "kernelspec": {
   "display_name": "titan",
   "language": "python",
   "name": "python3"
  },
  "language_info": {
   "codemirror_mode": {
    "name": "ipython",
    "version": 3
   },
   "file_extension": ".py",
   "mimetype": "text/x-python",
   "name": "python",
   "nbconvert_exporter": "python",
   "pygments_lexer": "ipython3",
   "version": "3.9.20"
  }
 },
 "nbformat": 4,
 "nbformat_minor": 2
}
