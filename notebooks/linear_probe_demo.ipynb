{
 "cells": [
  {
   "cell_type": "markdown",
   "metadata": {},
   "source": [
    "# Linear probing demo \n",
    "In this notebook, you can evalate slide embeddings for TITAN using linear probing."
   ]
  },
  {
   "cell_type": "code",
   "metadata": {
    "ExecuteTime": {
     "end_time": "2024-12-08T07:56:12.025638Z",
     "start_time": "2024-12-08T07:56:11.337778Z"
    }
   },
   "source": [
    "%load_ext autoreload\n",
    "%autoreload 2\n",
    "\n",
    "import sys\n",
    "sys.path.extend([\"/home/user/wangtao/prov-gigapath/TITAN\"])\n",
    "import numpy as np\n",
    "import pandas as pd\n",
    "import torch\n",
    "import yaml\n",
    "from transformers import AutoModel\n",
    "from titan.eval_linear_probe import train_and_evaluate_logistic_regression_with_val\n",
    "from titan.utils import bootstrap\n",
    "\n",
    "import os\n",
    "os.environ[\"OMP_NUM_THREADS\"] = \"8\"\n",
    "\n",
    "device = torch.device(\"cuda\" if torch.cuda.is_available() else \"cpu\")"
   ],
   "outputs": [
    {
     "name": "stdout",
     "output_type": "stream",
     "text": [
      "The autoreload extension is already loaded. To reload it, use:\n",
      "  %reload_ext autoreload\n"
     ]
    },
    {
     "name": "stderr",
     "output_type": "stream",
     "text": [
      "/home/user/.conda/envs/gigapath/lib/python3.9/site-packages/scipy/__init__.py:155: UserWarning: A NumPy version >=1.18.5 and <1.25.0 is required for this version of SciPy (detected version 1.26.4\n",
      "  warnings.warn(f\"A NumPy version >={np_minversion} and <{np_maxversion}\"\n"
     ]
    }
   ],
   "execution_count": 2
  },
  {
   "cell_type": "code",
   "metadata": {
    "ExecuteTime": {
     "end_time": "2024-12-08T07:56:21.506705Z",
     "start_time": "2024-12-08T07:56:16.430446Z"
    }
   },
   "source": [
    "# load model from huggingface\n",
    "model = AutoModel.from_pretrained('MahmoodLab/TITAN', trust_remote_code=True)\n",
    "model = model.to(device)"
   ],
   "outputs": [
    {
     "name": "stderr",
     "output_type": "stream",
     "text": [
      "2024-12-08 15:56:17.822169: I tensorflow/core/util/port.cc:113] oneDNN custom operations are on. You may see slightly different numerical results due to floating-point round-off errors from different computation orders. To turn them off, set the environment variable `TF_ENABLE_ONEDNN_OPTS=0`.\n",
      "2024-12-08 15:56:18.075241: I tensorflow/core/platform/cpu_feature_guard.cc:210] This TensorFlow binary is optimized to use available CPU instructions in performance-critical operations.\n",
      "To enable the following instructions: AVX2 AVX_VNNI FMA, in other operations, rebuild TensorFlow with the appropriate compiler flags.\n",
      "2024-12-08 15:56:18.850956: W tensorflow/compiler/tf2tensorrt/utils/py_utils.cc:38] TF-TRT Warning: Could not find TensorRT\n"
     ]
    }
   ],
   "execution_count": 3
  },
  {
   "cell_type": "code",
   "metadata": {
    "ExecuteTime": {
     "end_time": "2024-12-08T07:56:24.963643Z",
     "start_time": "2024-12-08T07:56:24.891652Z"
    }
   },
   "source": [
    "# load task configs\n",
    "with open('../datasets/config_tcga-ot.yaml', 'r') as file:\n",
    "    task_config = yaml.load(file, Loader=yaml.FullLoader)\n",
    "target = task_config['target']\n",
    "label_dict = task_config['label_dict']"
   ],
   "outputs": [],
   "execution_count": 4
  },
  {
   "cell_type": "code",
   "metadata": {
    "ExecuteTime": {
     "end_time": "2024-12-08T07:56:28.682224Z",
     "start_time": "2024-12-08T07:56:28.340491Z"
    }
   },
   "source": [
    "# load pre-extracted TITAN slide embeddings for TCGA\n",
    "import pickle\n",
    "from huggingface_hub import hf_hub_download\n",
    "slide_feature_path = hf_hub_download(\n",
    "    \"MahmoodLab/TITAN\", \n",
    "    filename=\"TCGA_TITAN_features.pkl\",\n",
    ")\n",
    "with open(slide_feature_path, 'rb') as file:\n",
    "  data = pickle.load(file)\n",
    "embeddings_df = pd.DataFrame({'slide_id': data['filenames'], 'embeddings': list(data['embeddings'][:])})"
   ],
   "outputs": [],
   "execution_count": 5
  },
  {
   "metadata": {
    "ExecuteTime": {
     "end_time": "2024-12-08T08:53:05.320249Z",
     "start_time": "2024-12-08T08:53:05.272215Z"
    }
   },
   "cell_type": "code",
   "source": [
    "tcga_slide_path = \"/home/user/sngp/tcga_slides/slides\"\n",
    "tcga_slide_list = os.listdir(tcga_slide_path)\n",
    "tcga_slide_name = [slide.strip('.svs') for slide in tcga_slide_list]\n",
    "embeddings_df = embeddings_df[embeddings_df['slide_id'].isin(tcga_slide_name)]"
   ],
   "outputs": [],
   "execution_count": 14
  },
  {
   "cell_type": "code",
   "metadata": {
    "ExecuteTime": {
     "end_time": "2024-12-08T08:53:06.379137Z",
     "start_time": "2024-12-08T08:53:06.293924Z"
    }
   },
   "source": [
    "# load splits\n",
    "train_split = pd.read_csv('../datasets/tcga-ot_train.csv')\n",
    "train_df = pd.merge(embeddings_df, train_split, on='slide_id')\n",
    "val_split = pd.read_csv('../datasets/tcga-ot_val.csv')\n",
    "val_df = pd.merge(embeddings_df, val_split, on='slide_id')\n",
    "test_split = pd.read_csv('../datasets/tcga-ot_test.csv')\n",
    "test_df = pd.merge(embeddings_df, test_split, on='slide_id')"
   ],
   "outputs": [],
   "execution_count": 15
  },
  {
   "metadata": {
    "ExecuteTime": {
     "end_time": "2024-12-08T08:53:19.192898Z",
     "start_time": "2024-12-08T08:53:19.166820Z"
    }
   },
   "cell_type": "code",
   "source": "print(f\"len(train_df): {len(train_df)}, len(val_df): {len(val_df)}, len(test_df): {len(test_df)}\")",
   "outputs": [
    {
     "name": "stdout",
     "output_type": "stream",
     "text": [
      "len(train_df): 661, len(val_df): 92, len(test_df): 188\n"
     ]
    }
   ],
   "execution_count": 16
  },
  {
   "cell_type": "code",
   "metadata": {
    "ExecuteTime": {
     "end_time": "2024-12-08T08:53:31.902338Z",
     "start_time": "2024-12-08T08:53:31.853355Z"
    }
   },
   "source": [
    "train_data = np.stack(train_df.embeddings.values)\n",
    "train_labels = train_df[target].apply(lambda x: label_dict[x]).values\n",
    "val_data = np.stack(val_df.embeddings.values)\n",
    "val_labels = val_df[target].apply(lambda x: label_dict[x]).values\n",
    "test_data = np.stack(test_df.embeddings.values)\n",
    "test_labels = test_df[target].apply(lambda x: label_dict[x]).values"
   ],
   "outputs": [],
   "execution_count": 17
  },
  {
   "metadata": {
    "ExecuteTime": {
     "end_time": "2024-12-08T08:55:30.253635Z",
     "start_time": "2024-12-08T08:55:30.222900Z"
    }
   },
   "cell_type": "code",
   "source": [
    "print(\"train df\", pd.DataFrame(train_labels).value_counts())\n",
    "print(\"val df\", pd.DataFrame(val_labels).value_counts())\n",
    "print(\"test df\", pd.DataFrame(test_labels).value_counts())"
   ],
   "outputs": [
    {
     "name": "stdout",
     "output_type": "stream",
     "text": [
      "train df 0 \n",
      "21    360\n",
      "20    301\n",
      "Name: count, dtype: int64\n",
      "val df 0 \n",
      "21    47\n",
      "20    45\n",
      "Name: count, dtype: int64\n",
      "test df 0 \n",
      "20    121\n",
      "21     67\n",
      "Name: count, dtype: int64\n"
     ]
    }
   ],
   "execution_count": 21
  },
  {
   "cell_type": "code",
   "metadata": {
    "ExecuteTime": {
     "end_time": "2024-12-08T08:56:04.593574Z",
     "start_time": "2024-12-08T08:55:40.286430Z"
    }
   },
   "source": [
    "# log_spaced_values = np.logspace(np.log10(10e-2), np.log10(10e2), num=3)\n",
    "results, outputs = train_and_evaluate_logistic_regression_with_val(train_data, train_labels, val_data, val_labels, test_data, test_labels, log_spaced_values=None)\n",
    "# to use the default setting from our paper use the default value for searching C (log_spaced_values = np.logspace(np.log10(10e-6), np.log10(10e5), num=45))\n",
    "# results = train_and_evaluate_logistic_regression_with_val(train_data, train_labels, val_data, val_labels, test_data, test_labels)\n",
    "for key, value in results.items():\n",
    "    print(f\"{key.split('/')[-1]: <12}: {value:.4f}\")"
   ],
   "outputs": [
    {
     "name": "stderr",
     "output_type": "stream",
     "text": [
      "Finding best C: 100%|██████████| 45/45 [00:24<00:00,  1.86it/s]"
     ]
    },
    {
     "name": "stdout",
     "output_type": "stream",
     "text": [
      "Best C: 56.23413251903491\n",
      "acc         : 0.9043\n",
      "bacc        : 0.9090\n",
      "kappa       : 0.7967\n",
      "nw_kappa    : 0.7967\n",
      "weighted_f1 : 0.9053\n",
      "loss        : 0.2681\n",
      "auroc       : 0.9631\n"
     ]
    },
    {
     "name": "stderr",
     "output_type": "stream",
     "text": [
      "\n"
     ]
    }
   ],
   "execution_count": 22
  },
  {
   "cell_type": "code",
   "metadata": {
    "ExecuteTime": {
     "end_time": "2024-12-08T08:56:34.996899Z",
     "start_time": "2024-12-08T08:56:26.543038Z"
    }
   },
   "source": [
    "bootstrap_kwargs = {'n': 1000, 'alpha': 0.95}\n",
    "results_mean, results_std = bootstrap(results_dict=outputs, **bootstrap_kwargs)  # takes a while as 46 imbalanced classes are bootstrapped\n",
    "for keys, values in results_mean.items():\n",
    "    print(f\"{keys.split('/')[-1]: <12}: {values:.4f} ± {results_std[keys]:.4f}\")"
   ],
   "outputs": [
    {
     "name": "stderr",
     "output_type": "stream",
     "text": [
      "100%|██████████| 1000/1000 [00:08<00:00, 119.22it/s]"
     ]
    },
    {
     "name": "stdout",
     "output_type": "stream",
     "text": [
      "acc         : 0.9042 ± 0.0212\n",
      "bacc        : 0.9093 ± 0.0207\n",
      "kappa       : 0.7957 ± 0.0450\n",
      "nw_kappa    : 0.7957 ± 0.0450\n",
      "weighted_f1 : 0.9053 ± 0.0207\n",
      "loss        : 0.2684 ± 0.0542\n",
      "auroc       : 0.9633 ± 0.0130\n"
     ]
    },
    {
     "name": "stderr",
     "output_type": "stream",
     "text": [
      "\n"
     ]
    }
   ],
   "execution_count": 23
  },
  {
   "metadata": {
    "ExecuteTime": {
     "end_time": "2024-12-08T08:10:09.391724Z",
     "start_time": "2024-12-08T08:10:09.337270Z"
    }
   },
   "cell_type": "code",
   "source": "slide_feature_path",
   "outputs": [
    {
     "data": {
      "text/plain": [
       "'/home/user/.cache/huggingface/hub/models--MahmoodLab--TITAN/snapshots/b2fb4f475256eb67c6e9ccbf2d6c9c3f25f20791/TCGA_TITAN_features.pkl'"
      ]
     },
     "execution_count": 12,
     "metadata": {},
     "output_type": "execute_result"
    }
   ],
   "execution_count": 12
  },
  {
   "metadata": {},
   "cell_type": "code",
   "outputs": [],
   "execution_count": null,
   "source": ""
  }
 ],
 "metadata": {
  "kernelspec": {
   "display_name": "titan",
   "language": "python",
   "name": "python3"
  },
  "language_info": {
   "codemirror_mode": {
    "name": "ipython",
    "version": 3
   },
   "file_extension": ".py",
   "mimetype": "text/x-python",
   "name": "python",
   "nbconvert_exporter": "python",
   "pygments_lexer": "ipython3",
   "version": "3.9.20"
  }
 },
 "nbformat": 4,
 "nbformat_minor": 2
}
