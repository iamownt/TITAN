{
 "cells": [
  {
   "cell_type": "markdown",
   "metadata": {},
   "source": [
    "# Inference demo\n",
    "In this notebook, you can extract slide embeddings with out pretrained model TITAN."
   ]
  },
  {
   "cell_type": "code",
   "metadata": {
    "ExecuteTime": {
     "end_time": "2024-12-09T06:52:48.818033Z",
     "start_time": "2024-12-09T06:52:47.640858Z"
    }
   },
   "source": [
    "import h5py\n",
    "import torch\n",
    "\n",
    "from transformers import AutoModel\n",
    "\n",
    "device = torch.device(\"cuda\" if torch.cuda.is_available() else \"cpu\")"
   ],
   "outputs": [],
   "execution_count": 1
  },
  {
   "cell_type": "code",
   "metadata": {
    "ExecuteTime": {
     "end_time": "2024-12-09T06:52:51.514242Z",
     "start_time": "2024-12-09T06:52:48.884028Z"
    }
   },
   "source": [
    "# load model\n",
    "model = AutoModel.from_pretrained('MahmoodLab/TITAN', trust_remote_code=True)\n",
    "model = model.to(device)"
   ],
   "outputs": [
    {
     "name": "stderr",
     "output_type": "stream",
     "text": [
      "2024-12-09 14:52:49.874250: I tensorflow/core/util/port.cc:113] oneDNN custom operations are on. You may see slightly different numerical results due to floating-point round-off errors from different computation orders. To turn them off, set the environment variable `TF_ENABLE_ONEDNN_OPTS=0`.\n",
      "2024-12-09 14:52:49.896399: I tensorflow/core/platform/cpu_feature_guard.cc:210] This TensorFlow binary is optimized to use available CPU instructions in performance-critical operations.\n",
      "To enable the following instructions: AVX2 AVX_VNNI FMA, in other operations, rebuild TensorFlow with the appropriate compiler flags.\n",
      "2024-12-09 14:52:50.212756: W tensorflow/compiler/tf2tensorrt/utils/py_utils.cc:38] TF-TRT Warning: Could not find TensorRT\n",
      "/home/user/.conda/envs/gigapath/lib/python3.9/site-packages/scipy/__init__.py:155: UserWarning: A NumPy version >=1.18.5 and <1.25.0 is required for this version of SciPy (detected version 1.26.4\n",
      "  warnings.warn(f\"A NumPy version >={np_minversion} and <{np_maxversion}\"\n"
     ]
    }
   ],
   "execution_count": 2
  },
  {
   "cell_type": "code",
   "metadata": {
    "ExecuteTime": {
     "end_time": "2024-12-09T06:52:51.897279Z",
     "start_time": "2024-12-09T06:52:51.647942Z"
    }
   },
   "source": [
    "# load data\n",
    "from huggingface_hub import hf_hub_download\n",
    "demo_h5_path = hf_hub_download(\n",
    "    \"MahmoodLab/TITAN\", \n",
    "    filename=\"TCGA_demo_features/TCGA-PC-A5DK-01Z-00-DX1.C2D3BC09-411F-46CF-811B-FDBA7C2A295B.h5\",\n",
    ")\n",
    "file = h5py.File(demo_h5_path, 'r')\n",
    "features = torch.from_numpy(file['features'][:])\n",
    "coords = torch.from_numpy(file['coords'][:])\n",
    "patch_size_lv0 = file['coords'].attrs['patch_size_level0']\n",
    "print(patch_size_lv0, features.shape, coords.shape, features.dtype, coords.dtype)"
   ],
   "outputs": [
    {
     "name": "stdout",
     "output_type": "stream",
     "text": [
      "1024 torch.Size([1, 3190, 768]) torch.Size([1, 3190, 2]) torch.float32 torch.int64\n"
     ]
    }
   ],
   "execution_count": 3
  },
  {
   "cell_type": "code",
   "metadata": {
    "ExecuteTime": {
     "end_time": "2024-12-09T06:45:23.474641Z",
     "start_time": "2024-12-09T06:45:22.946201Z"
    }
   },
   "source": [
    "# extract slide embedding\n",
    "with torch.autocast(device_type='cuda', dtype=torch.bfloat16), torch.inference_mode():\n",
    "    features = features.to(device)\n",
    "    coords = coords.to(device)\n",
    "    slide_embedding = model.encode_slide_from_patch_features(features, coords, patch_size_lv0)"
   ],
   "outputs": [],
   "execution_count": 7
  },
  {
   "cell_type": "code",
   "metadata": {
    "ExecuteTime": {
     "end_time": "2024-12-09T06:45:27.624908Z",
     "start_time": "2024-12-09T06:45:27.613008Z"
    }
   },
   "source": "slide_embedding.shape",
   "outputs": [
    {
     "data": {
      "text/plain": [
       "torch.Size([1, 768])"
      ]
     },
     "execution_count": 8,
     "metadata": {},
     "output_type": "execute_result"
    }
   ],
   "execution_count": 8
  },
  {
   "metadata": {
    "ExecuteTime": {
     "end_time": "2024-12-09T06:45:47.313113Z",
     "start_time": "2024-12-09T06:45:47.305806Z"
    }
   },
   "cell_type": "code",
   "source": "type(patch_size_lv0)",
   "outputs": [
    {
     "data": {
      "text/plain": [
       "numpy.int64"
      ]
     },
     "execution_count": 9,
     "metadata": {},
     "output_type": "execute_result"
    }
   ],
   "execution_count": 9
  },
  {
   "metadata": {},
   "cell_type": "code",
   "outputs": [],
   "execution_count": null,
   "source": ""
  }
 ],
 "metadata": {
  "kernelspec": {
   "display_name": "titan",
   "language": "python",
   "name": "python3"
  },
  "language_info": {
   "codemirror_mode": {
    "name": "ipython",
    "version": 3
   },
   "file_extension": ".py",
   "mimetype": "text/x-python",
   "name": "python",
   "nbconvert_exporter": "python",
   "pygments_lexer": "ipython3",
   "version": "3.9.20"
  }
 },
 "nbformat": 4,
 "nbformat_minor": 2
}
